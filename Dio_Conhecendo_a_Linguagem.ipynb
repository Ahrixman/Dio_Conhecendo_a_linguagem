{
  "nbformat": 4,
  "nbformat_minor": 0,
  "metadata": {
    "colab": {
      "provenance": [],
      "collapsed_sections": [
        "eWUSZqnRn0TP"
      ],
      "name": "Dio_Conhecendo_a_Linguagem.ipynb",
      "authorship_tag": "ABX9TyOKtHjlVET6qlCRM01toBvf",
      "include_colab_link": true
    },
    "kernelspec": {
      "name": "python3",
      "display_name": "Python 3"
    },
    "language_info": {
      "name": "python"
    }
  },
  "cells": [
    {
      "cell_type": "markdown",
      "metadata": {
        "id": "view-in-github",
        "colab_type": "text"
      },
      "source": [
        "<a href=\"https://colab.research.google.com/github/Ahrixman/Dio_Conhecendo_a_linguagem/blob/main/Dio_Conhecendo_a_Linguagem.ipynb\" target=\"_parent\"><img src=\"https://colab.research.google.com/assets/colab-badge.svg\" alt=\"Open In Colab\"/></a>"
      ]
    },
    {
      "cell_type": "markdown",
      "source": [
        "# Tipos de Dados"
      ],
      "metadata": {
        "id": "eWUSZqnRn0TP"
      }
    },
    {
      "cell_type": "code",
      "execution_count": null,
      "metadata": {
        "colab": {
          "base_uri": "https://localhost:8080/"
        },
        "id": "4EZTY94JnyW1",
        "outputId": "52ae96fe-7e44-458a-f341-323e7f24d15f"
      },
      "outputs": [
        {
          "output_type": "stream",
          "name": "stdout",
          "text": [
            "1021\n"
          ]
        }
      ],
      "source": [
        "print(11+10+1000) #Tipo de Num. Inteiro"
      ]
    },
    {
      "cell_type": "code",
      "source": [
        "print(1.5 + 1 + 0.5) #Tipo de Num. Ponto Flutuante"
      ],
      "metadata": {
        "colab": {
          "base_uri": "https://localhost:8080/"
        },
        "id": "ycnQ8QiRoNCZ",
        "outputId": "0322b0de-a40f-4aae-e974-82bd966c54fd"
      },
      "execution_count": null,
      "outputs": [
        {
          "output_type": "stream",
          "name": "stdout",
          "text": [
            "3.0\n"
          ]
        }
      ]
    },
    {
      "cell_type": "code",
      "source": [
        "print(True)\n",
        "print(False) #Tipo Boleano"
      ],
      "metadata": {
        "colab": {
          "base_uri": "https://localhost:8080/"
        },
        "id": "CLHUeVmAoSPh",
        "outputId": "e5c3657c-f2bf-4d34-9254-0f2adee1ca1e"
      },
      "execution_count": null,
      "outputs": [
        {
          "output_type": "stream",
          "name": "stdout",
          "text": [
            "True\n",
            "False\n"
          ]
        }
      ]
    },
    {
      "cell_type": "code",
      "source": [
        "print(\"Python\") #Tipo String"
      ],
      "metadata": {
        "colab": {
          "base_uri": "https://localhost:8080/"
        },
        "id": "IXHJZ2LWoaYL",
        "outputId": "ddad69cf-796e-4cac-e28a-f93023632301"
      },
      "execution_count": null,
      "outputs": [
        {
          "output_type": "stream",
          "name": "stdout",
          "text": [
            "Python\n"
          ]
        }
      ]
    },
    {
      "cell_type": "markdown",
      "source": [
        "**Variaveis**  >>\n",
        "\n",
        "*   Em linguas de programação podemos definir valores que podem sofrer alterações no decorrer da execução do programa. Esses valores recebem o nome de variáveis, pois elas nascem de um valor e não necessariamente devem permanecer com o mesmo durante a execução do programa\n",
        "\n",
        "**Alterando os valores** >>\n",
        "\n",
        "*   Perceba que não precisamos definir o tipo de dados da variável,o Pytho faz isso automaticamente para nós. Por isso não podemos simplesmente criar uma variável sem atribuir um valor. Para alterar o valor da variável basta fazer uma atribuação de um novo valor\n",
        "\n",
        "**Constante** >>\n",
        "\n",
        "*   Assim como as variáveis, constantes são utilizadas para armazenar valores. Uma constante nasce com um valor e permanece com ele até o final da execução do programa, ou seja, o valor é imutável.\n",
        "\n",
        "**NÃO EXISTE CONSTANTE EM PYTHON**\n",
        "\n",
        "**BOAS PRATICAS** >>\n",
        "\n",
        "1.   Padrão de nome da VAR em *Snake Case* (Total_da_compra)\n",
        "2.   Escolher nomes sugestivos (Nomes faceis de entender)\n",
        "3.   Nome de constantes todo em maiúsculo (AMOUNT)\n",
        "\n",
        "\n",
        "\n",
        "\n",
        "\n"
      ],
      "metadata": {
        "id": "9ycV-LfUE51a"
      }
    },
    {
      "cell_type": "code",
      "source": [
        "nome = \"Ariane\"\n",
        "idade  = 24\n",
        "\n",
        "print(nome, idade)\n",
        "\n",
        "limite_saque_diario = 1000\n",
        "\n",
        "BRAZIL_STATES = (\"SP\", \"RJ\", \"SC\", \"RS\")"
      ],
      "metadata": {
        "colab": {
          "base_uri": "https://localhost:8080/"
        },
        "id": "j4YU_BYYE9ng",
        "outputId": "a59967d3-3c42-48b3-c6cf-88b14b02ad76"
      },
      "execution_count": null,
      "outputs": [
        {
          "output_type": "stream",
          "name": "stdout",
          "text": [
            "Ariane 24\n"
          ]
        }
      ]
    },
    {
      "cell_type": "markdown",
      "source": [
        "**Convertendo Tipos**"
      ],
      "metadata": {
        "id": "TmeqcnF2MQSL"
      }
    },
    {
      "cell_type": "code",
      "source": [
        "#Convertendo tipos\n",
        "print(int(1.2364))\n",
        "print(int('10'))\n",
        "print(float(\"10.10\"))\n",
        "print(float(100))\n",
        "\n",
        "print(str(10.10))\n",
        "print(type(str(10.10)))\n",
        "\n",
        "valor = 10\n",
        "valor_str = str(valor)\n",
        "print(type(valor))\n",
        "print(type(valor_str))\n",
        "\n",
        "print(100 / 2)\n",
        "print(100 // 2) #caso não queira o ponto flutuante\n"
      ],
      "metadata": {
        "colab": {
          "base_uri": "https://localhost:8080/"
        },
        "id": "VV-odJE86G2N",
        "outputId": "b35a73d0-2805-42d0-98ce-aeb581ebeb62"
      },
      "execution_count": null,
      "outputs": [
        {
          "output_type": "stream",
          "name": "stdout",
          "text": [
            "1\n",
            "10\n",
            "10.1\n",
            "100.0\n",
            "10.1\n",
            "<class 'str'>\n",
            "<class 'int'>\n",
            "<class 'str'>\n",
            "50.0\n",
            "50\n"
          ]
        }
      ]
    }
  ]
}